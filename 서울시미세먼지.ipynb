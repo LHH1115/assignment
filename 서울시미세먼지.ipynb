{
  "nbformat": 4,
  "nbformat_minor": 0,
  "metadata": {
    "colab": {
      "provenance": [],
      "authorship_tag": "ABX9TyPPz9+/9P74ApCVuQlFU2dt",
      "include_colab_link": true
    },
    "kernelspec": {
      "name": "python3",
      "display_name": "Python 3"
    },
    "language_info": {
      "name": "python"
    }
  },
  "cells": [
    {
      "cell_type": "markdown",
      "metadata": {
        "id": "view-in-github",
        "colab_type": "text"
      },
      "source": [
        "<a href=\"https://colab.research.google.com/github/LHH1115/assignment/blob/main/%EC%84%9C%EC%9A%B8%EC%8B%9C%EB%AF%B8%EC%84%B8%EB%A8%BC%EC%A7%80.ipynb\" target=\"_parent\"><img src=\"https://colab.research.google.com/assets/colab-badge.svg\" alt=\"Open In Colab\"/></a>"
      ]
    },
    {
      "cell_type": "code",
      "execution_count": 1,
      "metadata": {
        "id": "CEXGG2EEWknX"
      },
      "outputs": [],
      "source": [
        "%matplotlib inline  \n",
        "\n",
        "import matplotlib as mpl\n",
        "import matplotlib.pyplot as plt\n",
        "import matplotlib.font_manager as fm  # 폰트 관련 용도"
      ]
    },
    {
      "cell_type": "code",
      "source": [
        "import pandas as pd\n",
        "import numpy as np\n",
        "import seaborn as sns\n",
        "import datetime as dt"
      ],
      "metadata": {
        "id": "uGgtYSo1Ws_m"
      },
      "execution_count": 2,
      "outputs": []
    },
    {
      "cell_type": "code",
      "source": [
        "sys_font=fm.findSystemFonts()\n",
        "nanum_font = [f for f in sys_font if 'Nanum' in f]"
      ],
      "metadata": {
        "id": "to2qv_B9WyTW"
      },
      "execution_count": 3,
      "outputs": []
    },
    {
      "cell_type": "code",
      "source": [
        "# # 나눔 폰트 설치\n",
        "# !apt-get update -qq\n",
        "# !apt-get install fonts-nanum* -qq\n",
        "# fm._rebuild()   # 하고 런타임 다시 시작"
      ],
      "metadata": {
        "id": "KGoTx5f-W0PF",
        "colab": {
          "base_uri": "https://localhost:8080/"
        },
        "outputId": "8172b018-8744-497a-9465-a56e99e9c943"
      },
      "execution_count": 8,
      "outputs": [
        {
          "output_type": "stream",
          "name": "stdout",
          "text": [
            "Selecting previously unselected package fonts-nanum.\n",
            "(Reading database ... 124016 files and directories currently installed.)\n",
            "Preparing to unpack .../fonts-nanum_20170925-1_all.deb ...\n",
            "Unpacking fonts-nanum (20170925-1) ...\n",
            "Selecting previously unselected package fonts-nanum-eco.\n",
            "Preparing to unpack .../fonts-nanum-eco_1.000-6_all.deb ...\n",
            "Unpacking fonts-nanum-eco (1.000-6) ...\n",
            "Selecting previously unselected package fonts-nanum-extra.\n",
            "Preparing to unpack .../fonts-nanum-extra_20170925-1_all.deb ...\n",
            "Unpacking fonts-nanum-extra (20170925-1) ...\n",
            "Selecting previously unselected package fonts-nanum-coding.\n",
            "Preparing to unpack .../fonts-nanum-coding_2.5-1_all.deb ...\n",
            "Unpacking fonts-nanum-coding (2.5-1) ...\n",
            "Setting up fonts-nanum-extra (20170925-1) ...\n",
            "Setting up fonts-nanum (20170925-1) ...\n",
            "Setting up fonts-nanum-coding (2.5-1) ...\n",
            "Setting up fonts-nanum-eco (1.000-6) ...\n",
            "Processing triggers for fontconfig (2.12.6-0ubuntu2) ...\n"
          ]
        }
      ]
    },
    {
      "cell_type": "code",
      "source": [
        "nanum_font    # 조회"
      ],
      "metadata": {
        "colab": {
          "base_uri": "https://localhost:8080/"
        },
        "id": "yMBnPusiXWIB",
        "outputId": "9d7ef019-dd62-4814-e927-a21abc07a28a"
      },
      "execution_count": 4,
      "outputs": [
        {
          "output_type": "execute_result",
          "data": {
            "text/plain": [
              "['/usr/share/fonts/truetype/nanum/NanumMyeongjoEcoBold.ttf',\n",
              " '/usr/share/fonts/truetype/nanum/NanumPen.ttf',\n",
              " '/usr/share/fonts/truetype/nanum/NanumMyeongjo.ttf',\n",
              " '/usr/share/fonts/truetype/nanum/NanumGothic.ttf',\n",
              " '/usr/share/fonts/truetype/nanum/NanumMyeongjoBold.ttf',\n",
              " '/usr/share/fonts/truetype/nanum/NanumSquareRoundL.ttf',\n",
              " '/usr/share/fonts/truetype/nanum/NanumGothicCoding-Bold.ttf',\n",
              " '/usr/share/fonts/truetype/nanum/NanumBarunGothicBold.ttf',\n",
              " '/usr/share/fonts/truetype/nanum/NanumGothicCoding.ttf',\n",
              " '/usr/share/fonts/truetype/nanum/NanumBarunpenR.ttf',\n",
              " '/usr/share/fonts/truetype/nanum/NanumGothicEcoExtraBold.ttf',\n",
              " '/usr/share/fonts/truetype/nanum/NanumBarunGothicUltraLight.ttf',\n",
              " '/usr/share/fonts/truetype/nanum/NanumSquareR.ttf',\n",
              " '/usr/share/fonts/truetype/nanum/NanumMyeongjoExtraBold.ttf',\n",
              " '/usr/share/fonts/truetype/nanum/NanumBrush.ttf',\n",
              " '/usr/share/fonts/truetype/nanum/NanumSquareEB.ttf',\n",
              " '/usr/share/fonts/truetype/nanum/NanumBarunpenB.ttf',\n",
              " '/usr/share/fonts/truetype/nanum/NanumSquareL.ttf',\n",
              " '/usr/share/fonts/truetype/nanum/NanumBarunGothicLight.ttf',\n",
              " '/usr/share/fonts/truetype/nanum/NanumBarunGothic.ttf',\n",
              " '/usr/share/fonts/truetype/nanum/NanumMyeongjoEcoExtraBold.ttf',\n",
              " '/usr/share/fonts/truetype/nanum/NanumMyeongjoEco.ttf',\n",
              " '/usr/share/fonts/truetype/nanum/NanumGothicBold.ttf',\n",
              " '/usr/share/fonts/truetype/nanum/NanumSquareRoundB.ttf',\n",
              " '/usr/share/fonts/truetype/nanum/NanumSquareRoundEB.ttf',\n",
              " '/usr/share/fonts/truetype/nanum/NanumSquareB.ttf',\n",
              " '/usr/share/fonts/truetype/nanum/NanumSquareRoundR.ttf',\n",
              " '/usr/share/fonts/truetype/nanum/NanumGothicEco.ttf',\n",
              " '/usr/share/fonts/truetype/nanum/NanumGothicLight.ttf',\n",
              " '/usr/share/fonts/truetype/nanum/NanumGothicEcoBold.ttf',\n",
              " '/usr/share/fonts/truetype/nanum/NanumGothicExtraBold.ttf']"
            ]
          },
          "metadata": {},
          "execution_count": 4
        }
      ]
    },
    {
      "cell_type": "code",
      "source": [
        "path = '/usr/share/fonts/truetype/nanum/NanumGothicEco.ttf' \n",
        "font_name = fm.FontProperties(fname=path, size=10).get_name()\n",
        "print(font_name)\n",
        "plt.rc('font', family=font_name)\n",
        "mpl.rcParams['axes.unicode_minus'] = False    # ' - ' 하이픈 깨지는것 방지"
      ],
      "metadata": {
        "colab": {
          "base_uri": "https://localhost:8080/"
        },
        "id": "ZNiT886PXAaP",
        "outputId": "2c4b37e5-1250-4d73-c3bf-2c1157421a00"
      },
      "execution_count": 5,
      "outputs": [
        {
          "output_type": "stream",
          "name": "stdout",
          "text": [
            "NanumGothic Eco\n"
          ]
        }
      ]
    },
    {
      "cell_type": "code",
      "source": [
        "# 현재 설정되어 있는 폰트 사이즈 글꼴\n",
        "!python --version     # ==> Python 3.8.16\n",
        "def current_font():\n",
        "  print(f\"설정 폰트 글꼴: {plt.rcParams['font.family']}, 설정 폰트 사이즈: {plt.rcParams['font.size']}\")\n",
        "        \n",
        "current_font()"
      ],
      "metadata": {
        "colab": {
          "base_uri": "https://localhost:8080/"
        },
        "id": "zhQ6sT0hXQGu",
        "outputId": "16ede34a-2375-4966-aec5-98da24f76266"
      },
      "execution_count": 6,
      "outputs": [
        {
          "output_type": "stream",
          "name": "stdout",
          "text": [
            "Python 3.8.16\n",
            "설정 폰트 글꼴: ['NanumGothic Eco'], 설정 폰트 사이즈: 10.0\n"
          ]
        }
      ]
    },
    {
      "cell_type": "code",
      "source": [
        "from google.colab import drive\n",
        "drive.mount('/content/gdrive')\n",
        "row_fine_dust = pd.read_csv(\"/content/gdrive/My Drive/Colab Notebooks/Data/서울시 대기질 자료 제공_2020-2021.csv\", encoding='CP949')"
      ],
      "metadata": {
        "colab": {
          "base_uri": "https://localhost:8080/"
        },
        "id": "21qU6-NsXh43",
        "outputId": "4d0a3103-30c6-46ff-fe5d-360640fb473f"
      },
      "execution_count": 7,
      "outputs": [
        {
          "output_type": "stream",
          "name": "stdout",
          "text": [
            "Mounted at /content/gdrive\n"
          ]
        }
      ]
    },
    {
      "cell_type": "code",
      "source": [
        "row_fine_dust"
      ],
      "metadata": {
        "colab": {
          "base_uri": "https://localhost:8080/",
          "height": 423
        },
        "id": "BKo197FIaGCH",
        "outputId": "71368f6a-54d5-4111-95b7-916d66bfeaed"
      },
      "execution_count": 8,
      "outputs": [
        {
          "output_type": "execute_result",
          "data": {
            "text/plain": [
              "                      일시   구분  미세먼지(PM10)  초미세먼지(PM25)\n",
              "0       2021-05-31 23:00   평균        43.0         23.0\n",
              "1       2021-05-31 23:00  강남구        42.0         24.0\n",
              "2       2021-05-31 23:00  강동구        47.0         30.0\n",
              "3       2021-05-31 23:00  강북구        48.0         27.0\n",
              "4       2021-05-31 23:00  강서구        49.0         28.0\n",
              "...                  ...  ...         ...          ...\n",
              "322601   2020-01-01 0:00  용산구        12.0         13.0\n",
              "322602   2020-01-01 0:00  은평구        18.0         12.0\n",
              "322603   2020-01-01 0:00  종로구        20.0         15.0\n",
              "322604   2020-01-01 0:00   중구        22.0         18.0\n",
              "322605   2020-01-01 0:00  중랑구        22.0         10.0\n",
              "\n",
              "[322606 rows x 4 columns]"
            ],
            "text/html": [
              "\n",
              "  <div id=\"df-817ec242-82d3-4b83-91f3-35d530a54af8\">\n",
              "    <div class=\"colab-df-container\">\n",
              "      <div>\n",
              "<style scoped>\n",
              "    .dataframe tbody tr th:only-of-type {\n",
              "        vertical-align: middle;\n",
              "    }\n",
              "\n",
              "    .dataframe tbody tr th {\n",
              "        vertical-align: top;\n",
              "    }\n",
              "\n",
              "    .dataframe thead th {\n",
              "        text-align: right;\n",
              "    }\n",
              "</style>\n",
              "<table border=\"1\" class=\"dataframe\">\n",
              "  <thead>\n",
              "    <tr style=\"text-align: right;\">\n",
              "      <th></th>\n",
              "      <th>일시</th>\n",
              "      <th>구분</th>\n",
              "      <th>미세먼지(PM10)</th>\n",
              "      <th>초미세먼지(PM25)</th>\n",
              "    </tr>\n",
              "  </thead>\n",
              "  <tbody>\n",
              "    <tr>\n",
              "      <th>0</th>\n",
              "      <td>2021-05-31 23:00</td>\n",
              "      <td>평균</td>\n",
              "      <td>43.0</td>\n",
              "      <td>23.0</td>\n",
              "    </tr>\n",
              "    <tr>\n",
              "      <th>1</th>\n",
              "      <td>2021-05-31 23:00</td>\n",
              "      <td>강남구</td>\n",
              "      <td>42.0</td>\n",
              "      <td>24.0</td>\n",
              "    </tr>\n",
              "    <tr>\n",
              "      <th>2</th>\n",
              "      <td>2021-05-31 23:00</td>\n",
              "      <td>강동구</td>\n",
              "      <td>47.0</td>\n",
              "      <td>30.0</td>\n",
              "    </tr>\n",
              "    <tr>\n",
              "      <th>3</th>\n",
              "      <td>2021-05-31 23:00</td>\n",
              "      <td>강북구</td>\n",
              "      <td>48.0</td>\n",
              "      <td>27.0</td>\n",
              "    </tr>\n",
              "    <tr>\n",
              "      <th>4</th>\n",
              "      <td>2021-05-31 23:00</td>\n",
              "      <td>강서구</td>\n",
              "      <td>49.0</td>\n",
              "      <td>28.0</td>\n",
              "    </tr>\n",
              "    <tr>\n",
              "      <th>...</th>\n",
              "      <td>...</td>\n",
              "      <td>...</td>\n",
              "      <td>...</td>\n",
              "      <td>...</td>\n",
              "    </tr>\n",
              "    <tr>\n",
              "      <th>322601</th>\n",
              "      <td>2020-01-01 0:00</td>\n",
              "      <td>용산구</td>\n",
              "      <td>12.0</td>\n",
              "      <td>13.0</td>\n",
              "    </tr>\n",
              "    <tr>\n",
              "      <th>322602</th>\n",
              "      <td>2020-01-01 0:00</td>\n",
              "      <td>은평구</td>\n",
              "      <td>18.0</td>\n",
              "      <td>12.0</td>\n",
              "    </tr>\n",
              "    <tr>\n",
              "      <th>322603</th>\n",
              "      <td>2020-01-01 0:00</td>\n",
              "      <td>종로구</td>\n",
              "      <td>20.0</td>\n",
              "      <td>15.0</td>\n",
              "    </tr>\n",
              "    <tr>\n",
              "      <th>322604</th>\n",
              "      <td>2020-01-01 0:00</td>\n",
              "      <td>중구</td>\n",
              "      <td>22.0</td>\n",
              "      <td>18.0</td>\n",
              "    </tr>\n",
              "    <tr>\n",
              "      <th>322605</th>\n",
              "      <td>2020-01-01 0:00</td>\n",
              "      <td>중랑구</td>\n",
              "      <td>22.0</td>\n",
              "      <td>10.0</td>\n",
              "    </tr>\n",
              "  </tbody>\n",
              "</table>\n",
              "<p>322606 rows × 4 columns</p>\n",
              "</div>\n",
              "      <button class=\"colab-df-convert\" onclick=\"convertToInteractive('df-817ec242-82d3-4b83-91f3-35d530a54af8')\"\n",
              "              title=\"Convert this dataframe to an interactive table.\"\n",
              "              style=\"display:none;\">\n",
              "        \n",
              "  <svg xmlns=\"http://www.w3.org/2000/svg\" height=\"24px\"viewBox=\"0 0 24 24\"\n",
              "       width=\"24px\">\n",
              "    <path d=\"M0 0h24v24H0V0z\" fill=\"none\"/>\n",
              "    <path d=\"M18.56 5.44l.94 2.06.94-2.06 2.06-.94-2.06-.94-.94-2.06-.94 2.06-2.06.94zm-11 1L8.5 8.5l.94-2.06 2.06-.94-2.06-.94L8.5 2.5l-.94 2.06-2.06.94zm10 10l.94 2.06.94-2.06 2.06-.94-2.06-.94-.94-2.06-.94 2.06-2.06.94z\"/><path d=\"M17.41 7.96l-1.37-1.37c-.4-.4-.92-.59-1.43-.59-.52 0-1.04.2-1.43.59L10.3 9.45l-7.72 7.72c-.78.78-.78 2.05 0 2.83L4 21.41c.39.39.9.59 1.41.59.51 0 1.02-.2 1.41-.59l7.78-7.78 2.81-2.81c.8-.78.8-2.07 0-2.86zM5.41 20L4 18.59l7.72-7.72 1.47 1.35L5.41 20z\"/>\n",
              "  </svg>\n",
              "      </button>\n",
              "      \n",
              "  <style>\n",
              "    .colab-df-container {\n",
              "      display:flex;\n",
              "      flex-wrap:wrap;\n",
              "      gap: 12px;\n",
              "    }\n",
              "\n",
              "    .colab-df-convert {\n",
              "      background-color: #E8F0FE;\n",
              "      border: none;\n",
              "      border-radius: 50%;\n",
              "      cursor: pointer;\n",
              "      display: none;\n",
              "      fill: #1967D2;\n",
              "      height: 32px;\n",
              "      padding: 0 0 0 0;\n",
              "      width: 32px;\n",
              "    }\n",
              "\n",
              "    .colab-df-convert:hover {\n",
              "      background-color: #E2EBFA;\n",
              "      box-shadow: 0px 1px 2px rgba(60, 64, 67, 0.3), 0px 1px 3px 1px rgba(60, 64, 67, 0.15);\n",
              "      fill: #174EA6;\n",
              "    }\n",
              "\n",
              "    [theme=dark] .colab-df-convert {\n",
              "      background-color: #3B4455;\n",
              "      fill: #D2E3FC;\n",
              "    }\n",
              "\n",
              "    [theme=dark] .colab-df-convert:hover {\n",
              "      background-color: #434B5C;\n",
              "      box-shadow: 0px 1px 3px 1px rgba(0, 0, 0, 0.15);\n",
              "      filter: drop-shadow(0px 1px 2px rgba(0, 0, 0, 0.3));\n",
              "      fill: #FFFFFF;\n",
              "    }\n",
              "  </style>\n",
              "\n",
              "      <script>\n",
              "        const buttonEl =\n",
              "          document.querySelector('#df-817ec242-82d3-4b83-91f3-35d530a54af8 button.colab-df-convert');\n",
              "        buttonEl.style.display =\n",
              "          google.colab.kernel.accessAllowed ? 'block' : 'none';\n",
              "\n",
              "        async function convertToInteractive(key) {\n",
              "          const element = document.querySelector('#df-817ec242-82d3-4b83-91f3-35d530a54af8');\n",
              "          const dataTable =\n",
              "            await google.colab.kernel.invokeFunction('convertToInteractive',\n",
              "                                                     [key], {});\n",
              "          if (!dataTable) return;\n",
              "\n",
              "          const docLinkHtml = 'Like what you see? Visit the ' +\n",
              "            '<a target=\"_blank\" href=https://colab.research.google.com/notebooks/data_table.ipynb>data table notebook</a>'\n",
              "            + ' to learn more about interactive tables.';\n",
              "          element.innerHTML = '';\n",
              "          dataTable['output_type'] = 'display_data';\n",
              "          await google.colab.output.renderOutput(dataTable, element);\n",
              "          const docLink = document.createElement('div');\n",
              "          docLink.innerHTML = docLinkHtml;\n",
              "          element.appendChild(docLink);\n",
              "        }\n",
              "      </script>\n",
              "    </div>\n",
              "  </div>\n",
              "  "
            ]
          },
          "metadata": {},
          "execution_count": 8
        }
      ]
    },
    {
      "cell_type": "code",
      "source": [
        "fine_dust = row_fine_dust.copy()"
      ],
      "metadata": {
        "id": "LpFUN7tedCjC"
      },
      "execution_count": 9,
      "outputs": []
    },
    {
      "cell_type": "code",
      "source": [
        "fine_dust.info()"
      ],
      "metadata": {
        "colab": {
          "base_uri": "https://localhost:8080/"
        },
        "id": "eqS1ToKqdMyV",
        "outputId": "2bff8df5-98ac-4f1b-84c5-a4053e006214"
      },
      "execution_count": 10,
      "outputs": [
        {
          "output_type": "stream",
          "name": "stdout",
          "text": [
            "<class 'pandas.core.frame.DataFrame'>\n",
            "RangeIndex: 322606 entries, 0 to 322605\n",
            "Data columns (total 4 columns):\n",
            " #   Column       Non-Null Count   Dtype  \n",
            "---  ------       --------------   -----  \n",
            " 0   일시           322606 non-null  object \n",
            " 1   구분           322606 non-null  object \n",
            " 2   미세먼지(PM10)   316048 non-null  float64\n",
            " 3   초미세먼지(PM25)  318068 non-null  float64\n",
            "dtypes: float64(2), object(2)\n",
            "memory usage: 9.8+ MB\n"
          ]
        }
      ]
    },
    {
      "cell_type": "code",
      "source": [
        "fine_dust['일시']"
      ],
      "metadata": {
        "colab": {
          "base_uri": "https://localhost:8080/"
        },
        "id": "d3thIIIrdlBa",
        "outputId": "9dc748e8-c410-44fc-8f42-ae0527bb98fb"
      },
      "execution_count": 11,
      "outputs": [
        {
          "output_type": "execute_result",
          "data": {
            "text/plain": [
              "0         2021-05-31 23:00\n",
              "1         2021-05-31 23:00\n",
              "2         2021-05-31 23:00\n",
              "3         2021-05-31 23:00\n",
              "4         2021-05-31 23:00\n",
              "                ...       \n",
              "322601     2020-01-01 0:00\n",
              "322602     2020-01-01 0:00\n",
              "322603     2020-01-01 0:00\n",
              "322604     2020-01-01 0:00\n",
              "322605     2020-01-01 0:00\n",
              "Name: 일시, Length: 322606, dtype: object"
            ]
          },
          "metadata": {},
          "execution_count": 11
        }
      ]
    },
    {
      "cell_type": "code",
      "source": [
        "fine_dust['일시'].isna().sum()"
      ],
      "metadata": {
        "colab": {
          "base_uri": "https://localhost:8080/"
        },
        "id": "7INZTZpreAHp",
        "outputId": "ad2c5cb4-8776-45b6-a056-a65e8410467d"
      },
      "execution_count": 12,
      "outputs": [
        {
          "output_type": "execute_result",
          "data": {
            "text/plain": [
              "0"
            ]
          },
          "metadata": {},
          "execution_count": 12
        }
      ]
    },
    {
      "cell_type": "code",
      "source": [
        "fine_dust['일시'] = pd.to_datetime(fine_dust['일시'])"
      ],
      "metadata": {
        "id": "wyLpszP0eMeL"
      },
      "execution_count": 13,
      "outputs": []
    },
    {
      "cell_type": "code",
      "source": [
        "fine_dust['일시']"
      ],
      "metadata": {
        "colab": {
          "base_uri": "https://localhost:8080/"
        },
        "id": "6iU_5bmteU_R",
        "outputId": "a8cc57d5-7ebc-494a-9e71-a73dc388cd97"
      },
      "execution_count": 14,
      "outputs": [
        {
          "output_type": "execute_result",
          "data": {
            "text/plain": [
              "0        2021-05-31 23:00:00\n",
              "1        2021-05-31 23:00:00\n",
              "2        2021-05-31 23:00:00\n",
              "3        2021-05-31 23:00:00\n",
              "4        2021-05-31 23:00:00\n",
              "                 ...        \n",
              "322601   2020-01-01 00:00:00\n",
              "322602   2020-01-01 00:00:00\n",
              "322603   2020-01-01 00:00:00\n",
              "322604   2020-01-01 00:00:00\n",
              "322605   2020-01-01 00:00:00\n",
              "Name: 일시, Length: 322606, dtype: datetime64[ns]"
            ]
          },
          "metadata": {},
          "execution_count": 14
        }
      ]
    },
    {
      "cell_type": "code",
      "source": [
        "fine_dust['구분'].value_counts()"
      ],
      "metadata": {
        "colab": {
          "base_uri": "https://localhost:8080/"
        },
        "id": "k-3knMvJfSh_",
        "outputId": "487a692e-6e1d-459e-a3d4-e12b4eb88afd"
      },
      "execution_count": 15,
      "outputs": [
        {
          "output_type": "execute_result",
          "data": {
            "text/plain": [
              "평균      12408\n",
              "강남구     12408\n",
              "종로구     12408\n",
              "은평구     12408\n",
              "용산구     12408\n",
              "영등포구    12408\n",
              "양천구     12408\n",
              "송파구     12408\n",
              "성북구     12408\n",
              "성동구     12408\n",
              "서초구     12408\n",
              "서대문구    12408\n",
              "마포구     12408\n",
              "동작구     12408\n",
              "동대문구    12408\n",
              "도봉구     12408\n",
              "노원구     12408\n",
              "금천구     12408\n",
              "구로구     12408\n",
              "광진구     12408\n",
              "관악구     12408\n",
              "강서구     12408\n",
              "강북구     12408\n",
              "강동구     12408\n",
              "중랑구     12408\n",
              "중구      12406\n",
              "Name: 구분, dtype: int64"
            ]
          },
          "metadata": {},
          "execution_count": 15
        }
      ]
    },
    {
      "cell_type": "code",
      "source": [
        "# 지역별 평균 미세먼지 ( 미세먼지(PM10) )\n",
        "df_loc = fine_dust.groupby('구분', as_index= False).agg(mean_fd = ('미세먼지(PM10)', 'mean'))\n",
        "df_loc = df_loc.sort_values(by='mean_fd', ascending=False)\n",
        "plt.rcParams['figure.figsize'] = [15, 5] # [width, height] (inches)\n",
        "sns.barplot(data = df_loc, x='구분', y='mean_fd')"
      ],
      "metadata": {
        "colab": {
          "base_uri": "https://localhost:8080/",
          "height": 351
        },
        "id": "ZFWAe36VeYoc",
        "outputId": "24289253-202e-4d5e-cab8-e075ba9ff5e8"
      },
      "execution_count": 16,
      "outputs": [
        {
          "output_type": "execute_result",
          "data": {
            "text/plain": [
              "<matplotlib.axes._subplots.AxesSubplot at 0x7f486da17b20>"
            ]
          },
          "metadata": {},
          "execution_count": 16
        },
        {
          "output_type": "display_data",
          "data": {
            "text/plain": [
              "<Figure size 1080x360 with 1 Axes>"
            ],
            "image/png": "[encoded data removed]"
          },
          "metadata": {
            "needs_background": "light"
          }
        }
      ]
    },
    {
      "cell_type": "code",
      "source": [
        "# 지역별 평균 초미세먼지 ( 초미세먼지(PM25) )\n",
        "df_loc = fine_dust.groupby('구분', as_index= False).agg(mean_sfd = ('초미세먼지(PM25)', 'mean'))\n",
        "df_loc = df_loc.sort_values(by='mean_sfd', ascending=False)\n",
        "sns.barplot(data = df_loc, x='구분', y='mean_sfd')"
      ],
      "metadata": {
        "colab": {
          "base_uri": "https://localhost:8080/",
          "height": 351
        },
        "id": "TyX8FDrmhRLH",
        "outputId": "72143078-fb36-4ae3-c9ca-f3ff6a8336e6"
      },
      "execution_count": 17,
      "outputs": [
        {
          "output_type": "execute_result",
          "data": {
            "text/plain": [
              "<matplotlib.axes._subplots.AxesSubplot at 0x7f486d3d5490>"
            ]
          },
          "metadata": {},
          "execution_count": 17
        },
        {
          "output_type": "display_data",
          "data": {
            "text/plain": [
              "<Figure size 1080x360 with 1 Axes>"
            ],
            "image/png": "[encoded data removed]"
          },
          "metadata": {
            "needs_background": "light"
          }
        }
      ]
    },
    {
      "cell_type": "code",
      "source": [
        "# 모든 지역 평균이 가장 높았던 시간순으로 정렬\n",
        "print( fine_dust.groupby('일시', as_index= False).agg(mean_fd = ('미세먼지(PM10)', 'mean')).sort_values(by='mean_fd', ascending=False))"
      ],
      "metadata": {
        "colab": {
          "base_uri": "https://localhost:8080/"
        },
        "id": "CY8KrhpZhnKt",
        "outputId": "12ad5801-ee69-4b25-d7c9-ebc82e2f5c15"
      },
      "execution_count": 18,
      "outputs": [
        {
          "output_type": "stream",
          "name": "stdout",
          "text": [
            "                       일시     mean_fd\n",
            "11833 2021-05-08 01:00:00  867.961538\n",
            "11832 2021-05-08 00:00:00  846.040000\n",
            "11834 2021-05-08 02:00:00  812.884615\n",
            "11831 2021-05-07 23:00:00  794.576923\n",
            "11835 2021-05-08 03:00:00  728.769231\n",
            "...                   ...         ...\n",
            "11022 2021-04-04 06:00:00    3.192308\n",
            "11020 2021-04-04 04:00:00    3.192308\n",
            "3365  2020-05-20 05:00:00    3.153846\n",
            "3364  2020-05-20 04:00:00    3.076923\n",
            "11024 2021-04-04 08:00:00    3.038462\n",
            "\n",
            "[12408 rows x 2 columns]\n"
          ]
        }
      ]
    },
    {
      "cell_type": "code",
      "source": [
        "fine_dust['date'] = fine_dust['일시'].dt.date"
      ],
      "metadata": {
        "id": "ojfQb3ybnzN9"
      },
      "execution_count": 19,
      "outputs": []
    },
    {
      "cell_type": "code",
      "source": [
        "# 모든 지역 평균이 가장 높은 일별 정렬\n",
        "print( fine_dust.groupby('date', as_index= False).agg(mean_fd = ('미세먼지(PM10)', 'mean')).sort_values(by='mean_fd', ascending=False))"
      ],
      "metadata": {
        "colab": {
          "base_uri": "https://localhost:8080/"
        },
        "id": "8rLPKf6Gn0Rb",
        "outputId": "acc91925-6306-46d7-d162-b455ba894236"
      },
      "execution_count": 20,
      "outputs": [
        {
          "output_type": "stream",
          "name": "stdout",
          "text": [
            "           date     mean_fd\n",
            "493  2021-05-08  467.231140\n",
            "492  2021-05-07  322.266881\n",
            "453  2021-03-29  273.339806\n",
            "454  2021-03-30  138.032154\n",
            "435  2021-03-11  120.808989\n",
            "..          ...         ...\n",
            "140  2020-05-20    7.108239\n",
            "195  2020-07-14    6.124194\n",
            "205  2020-07-24    5.449013\n",
            "206  2020-07-25    5.118780\n",
            "250  2020-09-07    5.091503\n",
            "\n",
            "[517 rows x 2 columns]\n"
          ]
        }
      ]
    },
    {
      "cell_type": "code",
      "source": [
        "sns.lineplot(data = fine_dust, x='date',y='미세먼지(PM10)')"
      ],
      "metadata": {
        "colab": {
          "base_uri": "https://localhost:8080/",
          "height": 350
        },
        "id": "muKa1ucln5HY",
        "outputId": "0b7488d3-cf9b-451d-ebd4-e7e96217500e"
      },
      "execution_count": 21,
      "outputs": [
        {
          "output_type": "execute_result",
          "data": {
            "text/plain": [
              "<matplotlib.axes._subplots.AxesSubplot at 0x7f486d9e59a0>"
            ]
          },
          "metadata": {},
          "execution_count": 21
        },
        {
          "output_type": "display_data",
          "data": {
            "text/plain": [
              "<Figure size 1080x360 with 1 Axes>"
            ],
            "image/png": "[encoded data removed]"
          },
          "metadata": {
            "needs_background": "light"
          }
        }
      ]
    },
    {
      "cell_type": "code",
      "source": [
        "# 미세먼지 평균이 가장 높은 달 표현\n",
        "fine_dust['month'] = fine_dust['일시'].dt.month"
      ],
      "metadata": {
        "id": "nqgGlBOljkPP"
      },
      "execution_count": 22,
      "outputs": []
    },
    {
      "cell_type": "code",
      "source": [
        "print( fine_dust.groupby('month', as_index= False).agg(mean_fd = ('미세먼지(PM10)', 'mean')).sort_values(by='mean_fd', ascending=False))"
      ],
      "metadata": {
        "colab": {
          "base_uri": "https://localhost:8080/"
        },
        "id": "CEF8O14SmKAq",
        "outputId": "13e9c515-6580-4e58-8a63-6caa0024319e"
      },
      "execution_count": 23,
      "outputs": [
        {
          "output_type": "stream",
          "name": "stdout",
          "text": [
            "    month    mean_fd\n",
            "2       3  56.069163\n",
            "4       5  47.873568\n",
            "1       2  44.561166\n",
            "3       4  42.812649\n",
            "10     11  41.770826\n",
            "11     12  41.728784\n",
            "0       1  40.107545\n",
            "5       6  36.389101\n",
            "9      10  33.350126\n",
            "7       8  22.834620\n",
            "6       7  20.916569\n",
            "8       9  19.227641\n"
          ]
        }
      ]
    },
    {
      "cell_type": "code",
      "source": [
        "plt.xticks(np.arange(1,13))\n",
        "sns.lineplot(data = fine_dust, x='month',y='미세먼지(PM10)')"
      ],
      "metadata": {
        "colab": {
          "base_uri": "https://localhost:8080/",
          "height": 350
        },
        "id": "y9KIMk0CmSme",
        "outputId": "c8cae524-19a1-4810-9fd8-440190f81e59"
      },
      "execution_count": 25,
      "outputs": [
        {
          "output_type": "execute_result",
          "data": {
            "text/plain": [
              "<matplotlib.axes._subplots.AxesSubplot at 0x7f486c756c10>"
            ]
          },
          "metadata": {},
          "execution_count": 25
        },
        {
          "output_type": "display_data",
          "data": {
            "text/plain": [
              "<Figure size 1080x360 with 1 Axes>"
            ],
            "image/png": "[encoded data removed]"
          },
          "metadata": {
            "needs_background": "light"
          }
        }
      ]
    },
    {
      "cell_type": "code",
      "source": [
        "# 미세먼지 평균이 가장 높은 시간 표현\n",
        "fine_dust['hour'] = fine_dust['일시'].dt.hour"
      ],
      "metadata": {
        "id": "97oLQj5-mpG7"
      },
      "execution_count": 26,
      "outputs": []
    },
    {
      "cell_type": "code",
      "source": [
        "print( fine_dust.groupby('hour', as_index= False).agg(mean_fd = ('미세먼지(PM10)', 'mean')).sort_values(by='mean_fd', ascending=False))"
      ],
      "metadata": {
        "colab": {
          "base_uri": "https://localhost:8080/"
        },
        "id": "pS3FNX2-nBvM",
        "outputId": "e1246bbf-da56-4199-a22e-71fbde685eca"
      },
      "execution_count": 27,
      "outputs": [
        {
          "output_type": "stream",
          "name": "stdout",
          "text": [
            "    hour    mean_fd\n",
            "11    11  43.396890\n",
            "12    12  42.032789\n",
            "13    13  41.942305\n",
            "10    10  41.799592\n",
            "17    17  41.429519\n",
            "15    15  41.248553\n",
            "19    19  41.233391\n",
            "21    21  40.828250\n",
            "9      9  40.782129\n",
            "14    14  40.650715\n",
            "18    18  40.558527\n",
            "16    16  40.468726\n",
            "23    23  40.366191\n",
            "20    20  40.276471\n",
            "22    22  39.634986\n",
            "1      1  39.441824\n",
            "0      0  39.019205\n",
            "7      7  38.165962\n",
            "3      3  38.155608\n",
            "8      8  38.101867\n",
            "5      5  37.724992\n",
            "2      2  37.641008\n",
            "6      6  36.958733\n",
            "4      4  36.867211\n"
          ]
        }
      ]
    },
    {
      "cell_type": "code",
      "source": [
        "plt.xticks(np.arange(0,24))\n",
        "sns.lineplot(data = fine_dust, x='hour',y='미세먼지(PM10)')"
      ],
      "metadata": {
        "colab": {
          "base_uri": "https://localhost:8080/",
          "height": 350
        },
        "id": "AOyUkisWnFBx",
        "outputId": "875d580f-6037-410e-cd13-18d229bee36d"
      },
      "execution_count": 30,
      "outputs": [
        {
          "output_type": "execute_result",
          "data": {
            "text/plain": [
              "<matplotlib.axes._subplots.AxesSubplot at 0x7f486c6ce790>"
            ]
          },
          "metadata": {},
          "execution_count": 30
        },
        {
          "output_type": "display_data",
          "data": {
            "text/plain": [
              "<Figure size 1080x360 with 1 Axes>"
            ],
            "image/png": "[encoded data removed]"
          },
          "metadata": {
            "needs_background": "light"
          }
        }
      ]
    },
    {
      "cell_type": "code",
      "source": [],
      "metadata": {
        "id": "VKIuVNxanIG3"
      },
      "execution_count": null,
      "outputs": []
    }
  ]
}